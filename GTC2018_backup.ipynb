{
 "cells": [
  {
   "cell_type": "markdown",
   "metadata": {},
   "source": [
    "# Introduction to Starcraft II and Reinforcement Learning"
   ]
  },
  {
   "cell_type": "code",
   "execution_count": 1,
   "metadata": {},
   "outputs": [
    {
     "data": {
      "text/html": [
       "<iframe width=\"560\" height=\"315\" src=\"https://www.youtube.com/embed/MVbeoSPqRs4?rel=0&amp;start=20\" frameborder=\"0\" allow=\"autoplay; encrypted-media\" allowfullscreen></iframe>"
      ],
      "text/plain": [
       "<IPython.core.display.HTML object>"
      ]
     },
     "metadata": {},
     "output_type": "display_data"
    }
   ],
   "source": [
    "%%HTML\n",
    "<iframe width=\"560\" height=\"315\" src=\"https://www.youtube.com/embed/MVbeoSPqRs4?rel=0&amp;start=20\" frameborder=\"0\" allow=\"autoplay; encrypted-media\" allowfullscreen></iframe>"
   ]
  },
  {
   "cell_type": "markdown",
   "metadata": {},
   "source": [
    "StarCraft II (SC2) is a real-time strategy game developed by Blizzard that is free to play. In this lab you will learn how to use deep reinforcement learning (RL) to train AIs to play SC2.\n",
    "\n",
    "RL is classic field of study in machine learning and has recently gained a lot of popularity since Google's DeepMind used RL and deep learning (DL) to train AI agents that can master Atari games by learning how to play the game from pixel's alone.  Since then DeepMind has used deep reinforcement learning (DRL) to beat Go.  Their AI AlphaZero is the world's best Go player today.\n",
    "\n",
    "The next great unsolved challenge in RL is StarCraft II.  This is due largely to the complex strategical thinking that must take place in order to master the game.  In this lab we'll be working towards training AIs that handle small subset of the full SC2 game.  The AIs will be trained to play minigames."
   ]
  },
  {
   "cell_type": "markdown",
   "metadata": {},
   "source": [
    "# The SC2 Client and the Python Interface"
   ]
  },
  {
   "cell_type": "markdown",
   "metadata": {},
   "source": [
    "Blizzard has created a C++ [client](https://github.com/Blizzard/s2client-proto) for SC2 so that AIs can interface with the game. DeepMind worked with Blizzard to create a Python library that wraps Blizzard's SC2 client called [Pysc2](https://github.com/deepmind/pysc2). Pysc2 makes it easy to use deep learning frameworks such as TensorFlow to train DRL agents.\n",
    "\n",
    "Pysc2 can used from Linux, Windows, or MacOS.  We'll be using Linux instances for this lab but the replays from agents can be downloaded and then viewed on your Windows or Mac machine later.  Go to the [noVNC Server](http://ec2address:6900/?password=vncpassword) to see the Pysc2 client.  You can also see it from your VNC client if you have one at http://ec2-18-224-173-123.us-east-2.compute.amazonaws.com:5900/?password=vncpassword if you have one on your laptop."
   ]
  },
  {
   "cell_type": "code",
   "execution_count": 2,
   "metadata": {},
   "outputs": [],
   "source": [
    "# import libraries \n",
    "import pysc2\n",
    "import tensorflow as tf\n",
    "import numpy as np"
   ]
  },
  {
   "cell_type": "markdown",
   "metadata": {},
   "source": [
    "Let's instantiate one of the minigames."
   ]
  },
  {
   "cell_type": "code",
   "execution_count": 9,
   "metadata": {},
   "outputs": [
    {
     "name": "stdout",
     "output_type": "stream",
     "text": [
      "I0323 04:32:09.688061 140737354041088 sc_process.py:148] Connection attempt 0 (running: None)\n",
      "Version: B55958 (SC2.3.16)\n",
      "Build: Jul 31 2017 13:19:41\n",
      "Command Line: '\"/headless/StarCraftII/Versions/Base55958/SC2_x64\" -listen 127.0.0.1 -port 22342 -dataDir /headless/StarCraftII/ -tempDir /tmp/sc-9hfn_wut/ -displayMode 0'\n",
      "Starting up...\n",
      "Startup Phase 1 complete\n",
      "I0323 04:32:10.692049 140737354041088 sc_process.py:148] Connection attempt 1 (running: None)\n",
      "Startup Phase 2 complete\n",
      "Creating stub renderer...\n",
      "Listening on: 127.0.0.1:22342 (22342)\n",
      "Startup Phase 3 complete. Ready for commands.\n",
      "Requesting to join a single player game\n",
      "Configuring interface options\n",
      "Configure: raw interface enabled\n",
      "Configure: feature layer interface enabled\n",
      "Configure: score interface enabled\n",
      "Configure: render interface disabled\n",
      "Entering load game phase.\n",
      "Launching next game.\n",
      "Next launch phase started: 2\n",
      "Next launch phase started: 3\n",
      "Next launch phase started: 4\n",
      "Next launch phase started: 5\n",
      "Next launch phase started: 6\n",
      "Next launch phase started: 7\n",
      "Next launch phase started: 8\n",
      "Game has started.\n",
      "Sending ResponseJoinGame\n",
      "ALSA lib confmisc.c:768:(parse_card) cannot find card '0'\n",
      "ALSA lib conf.c:4292:(_snd_config_evaluate) function snd_func_card_driver returned error: No such file or directory\n",
      "ALSA lib confmisc.c:392:(snd_func_concat) error evaluating strings\n",
      "ALSA lib conf.c:4292:(_snd_config_evaluate) function snd_func_concat returned error: No such file or directory\n",
      "ALSA lib confmisc.c:1251:(snd_func_refer) error evaluating name\n",
      "ALSA lib conf.c:4292:(_snd_config_evaluate) function snd_func_refer returned error: No such file or directory\n",
      "ALSA lib conf.c:4771:(snd_config_expand) Evaluate error: No such file or directory\n",
      "ALSA lib pcm.c:2266:(snd_pcm_open_noupdate) Unknown PCM default\n",
      "Wrote replay to: /headless/StarCraftII/Replays/local/DefeatRoaches_2018-03-23-04-33-41.SC2Replay\n",
      "Restarting\n",
      "Game has started.\n",
      "ALSA lib confmisc.c:768:(parse_card) cannot find card '0'\n",
      "ALSA lib conf.c:4292:(_snd_config_evaluate) function snd_func_card_driver returned error: No such file or directory\n",
      "ALSA lib confmisc.c:392:(snd_func_concat) error evaluating strings\n",
      "ALSA lib conf.c:4292:(_snd_config_evaluate) function snd_func_concat returned error: No such file or directory\n",
      "ALSA lib confmisc.c:1251:(snd_func_refer) error evaluating name\n",
      "ALSA lib conf.c:4292:(_snd_config_evaluate) function snd_func_refer returned error: No such file or directory\n",
      "ALSA lib conf.c:4771:(snd_config_expand) Evaluate error: No such file or directory\n",
      "ALSA lib pcm.c:2266:(snd_pcm_open_noupdate) Unknown PCM default\n",
      "Wrote replay to: /headless/StarCraftII/Replays/local/DefeatRoaches_2018-03-23-04-35-07.SC2Replay\n",
      "Restarting\n",
      "Game has started.\n",
      "ALSA lib confmisc.c:768:(parse_card) cannot find card '0'\n",
      "ALSA lib conf.c:4292:(_snd_config_evaluate) function snd_func_card_driver returned error: No such file or directory\n",
      "ALSA lib confmisc.c:392:(snd_func_concat) error evaluating strings\n",
      "ALSA lib conf.c:4292:(_snd_config_evaluate) function snd_func_concat returned error: No such file or directory\n",
      "ALSA lib confmisc.c:1251:(snd_func_refer) error evaluating name\n",
      "ALSA lib conf.c:4292:(_snd_config_evaluate) function snd_func_refer returned error: No such file or directory\n",
      "ALSA lib conf.c:4771:(snd_config_expand) Evaluate error: No such file or directory\n",
      "ALSA lib pcm.c:2266:(snd_pcm_open_noupdate) Unknown PCM default\n",
      "Wrote replay to: /headless/StarCraftII/Replays/local/DefeatRoaches_2018-03-23-04-36-33.SC2Replay\n",
      "Restarting\n",
      "Game has started.\n",
      "ALSA lib confmisc.c:768:(parse_card) cannot find card '0'\n",
      "ALSA lib conf.c:4292:(_snd_config_evaluate) function snd_func_card_driver returned error: No such file or directory\n",
      "ALSA lib confmisc.c:392:(snd_func_concat) error evaluating strings\n",
      "ALSA lib conf.c:4292:(_snd_config_evaluate) function snd_func_concat returned error: No such file or directory\n",
      "ALSA lib confmisc.c:1251:(snd_func_refer) error evaluating name\n",
      "ALSA lib conf.c:4292:(_snd_config_evaluate) function snd_func_refer returned error: No such file or directory\n",
      "ALSA lib conf.c:4771:(snd_config_expand) Evaluate error: No such file or directory\n",
      "ALSA lib pcm.c:2266:(snd_pcm_open_noupdate) Unknown PCM default\n",
      "Wrote replay to: /headless/StarCraftII/Replays/local/DefeatRoaches_2018-03-23-04-37-59.SC2Replay\n",
      "Restarting\n",
      "Game has started.\n",
      "ALSA lib confmisc.c:768:(parse_card) cannot find card '0'\n",
      "ALSA lib conf.c:4292:(_snd_config_evaluate) function snd_func_card_driver returned error: No such file or directory\n",
      "ALSA lib confmisc.c:392:(snd_func_concat) error evaluating strings\n",
      "ALSA lib conf.c:4292:(_snd_config_evaluate) function snd_func_concat returned error: No such file or directory\n",
      "ALSA lib confmisc.c:1251:(snd_func_refer) error evaluating name\n",
      "ALSA lib conf.c:4292:(_snd_config_evaluate) function snd_func_refer returned error: No such file or directory\n",
      "ALSA lib conf.c:4771:(snd_config_expand) Evaluate error: No such file or directory\n",
      "ALSA lib pcm.c:2266:(snd_pcm_open_noupdate) Unknown PCM default\n",
      "Wrote replay to: /headless/StarCraftII/Replays/local/DefeatRoaches_2018-03-23-04-39-25.SC2Replay\n",
      "Restarting\n",
      "Game has started.\n",
      "ALSA lib confmisc.c:768:(parse_card) cannot find card '0'\n",
      "ALSA lib conf.c:4292:(_snd_config_evaluate) function snd_func_card_driver returned error: No such file or directory\n",
      "ALSA lib confmisc.c:392:(snd_func_concat) error evaluating strings\n",
      "ALSA lib conf.c:4292:(_snd_config_evaluate) function snd_func_concat returned error: No such file or directory\n",
      "ALSA lib confmisc.c:1251:(snd_func_refer) error evaluating name\n",
      "ALSA lib conf.c:4292:(_snd_config_evaluate) function snd_func_refer returned error: No such file or directory\n",
      "ALSA lib conf.c:4771:(snd_config_expand) Evaluate error: No such file or directory\n",
      "ALSA lib pcm.c:2266:(snd_pcm_open_noupdate) Unknown PCM default\n",
      "Wrote replay to: /headless/StarCraftII/Replays/local/DefeatRoaches_2018-03-23-04-40-51.SC2Replay\n",
      "Restarting\n",
      "Game has started.\n",
      "ALSA lib confmisc.c:768:(parse_card) cannot find card '0'\n",
      "ALSA lib conf.c:4292:(_snd_config_evaluate) function snd_func_card_driver returned error: No such file or directory\n",
      "ALSA lib confmisc.c:392:(snd_func_concat) error evaluating strings\n",
      "ALSA lib conf.c:4292:(_snd_config_evaluate) function snd_func_concat returned error: No such file or directory\n",
      "ALSA lib confmisc.c:1251:(snd_func_refer) error evaluating name\n",
      "ALSA lib conf.c:4292:(_snd_config_evaluate) function snd_func_refer returned error: No such file or directory\n",
      "ALSA lib conf.c:4771:(snd_config_expand) Evaluate error: No such file or directory\n",
      "ALSA lib pcm.c:2266:(snd_pcm_open_noupdate) Unknown PCM default\n",
      "Wrote replay to: /headless/StarCraftII/Replays/local/DefeatRoaches_2018-03-23-04-42-17.SC2Replay\n",
      "Restarting\n",
      "Game has started.\n",
      "ALSA lib confmisc.c:768:(parse_card) cannot find card '0'\n",
      "ALSA lib conf.c:4292:(_snd_config_evaluate) function snd_func_card_driver returned error: No such file or directory\n",
      "ALSA lib confmisc.c:392:(snd_func_concat) error evaluating strings\n",
      "ALSA lib conf.c:4292:(_snd_config_evaluate) function snd_func_concat returned error: No such file or directory\n",
      "ALSA lib confmisc.c:1251:(snd_func_refer) error evaluating name\n",
      "ALSA lib conf.c:4292:(_snd_config_evaluate) function snd_func_refer returned error: No such file or directory\n",
      "ALSA lib conf.c:4771:(snd_config_expand) Evaluate error: No such file or directory\n",
      "ALSA lib pcm.c:2266:(snd_pcm_open_noupdate) Unknown PCM default\n",
      "Wrote replay to: /headless/StarCraftII/Replays/local/DefeatRoaches_2018-03-23-04-43-43.SC2Replay\n",
      "Restarting\n",
      "Game has started.\n",
      "ALSA lib confmisc.c:768:(parse_card) cannot find card '0'\n",
      "ALSA lib conf.c:4292:(_snd_config_evaluate) function snd_func_card_driver returned error: No such file or directory\n",
      "ALSA lib confmisc.c:392:(snd_func_concat) error evaluating strings\n",
      "ALSA lib conf.c:4292:(_snd_config_evaluate) function snd_func_concat returned error: No such file or directory\n",
      "ALSA lib confmisc.c:1251:(snd_func_refer) error evaluating name\n",
      "ALSA lib conf.c:4292:(_snd_config_evaluate) function snd_func_refer returned error: No such file or directory\n",
      "ALSA lib conf.c:4771:(snd_config_expand) Evaluate error: No such file or directory\n",
      "ALSA lib pcm.c:2266:(snd_pcm_open_noupdate) Unknown PCM default\n",
      "Wrote replay to: /headless/StarCraftII/Replays/local/DefeatRoaches_2018-03-23-04-45-09.SC2Replay\n",
      "Restarting\n",
      "Game has started.\n"
     ]
    },
    {
     "name": "stdout",
     "output_type": "stream",
     "text": [
      "ALSA lib confmisc.c:768:(parse_card) cannot find card '0'\n",
      "ALSA lib conf.c:4292:(_snd_config_evaluate) function snd_func_card_driver returned error: No such file or directory\n",
      "ALSA lib confmisc.c:392:(snd_func_concat) error evaluating strings\n",
      "ALSA lib conf.c:4292:(_snd_config_evaluate) function snd_func_concat returned error: No such file or directory\n",
      "ALSA lib confmisc.c:1251:(snd_func_refer) error evaluating name\n",
      "ALSA lib conf.c:4292:(_snd_config_evaluate) function snd_func_refer returned error: No such file or directory\n",
      "ALSA lib conf.c:4771:(snd_config_expand) Evaluate error: No such file or directory\n",
      "ALSA lib pcm.c:2266:(snd_pcm_open_noupdate) Unknown PCM default\n",
      "Wrote replay to: /headless/StarCraftII/Replays/local/DefeatRoaches_2018-03-23-04-46-35.SC2Replay\n",
      "Restarting\n",
      "Game has started.\n",
      "ALSA lib confmisc.c:768:(parse_card) cannot find card '0'\n",
      "ALSA lib conf.c:4292:(_snd_config_evaluate) function snd_func_card_driver returned error: No such file or directory\n",
      "ALSA lib confmisc.c:392:(snd_func_concat) error evaluating strings\n",
      "ALSA lib conf.c:4292:(_snd_config_evaluate) function snd_func_concat returned error: No such file or directory\n",
      "ALSA lib confmisc.c:1251:(snd_func_refer) error evaluating name\n",
      "ALSA lib conf.c:4292:(_snd_config_evaluate) function snd_func_refer returned error: No such file or directory\n",
      "ALSA lib conf.c:4771:(snd_config_expand) Evaluate error: No such file or directory\n",
      "ALSA lib pcm.c:2266:(snd_pcm_open_noupdate) Unknown PCM default\n",
      "Wrote replay to: /headless/StarCraftII/Replays/local/DefeatRoaches_2018-03-23-04-48-01.SC2Replay\n",
      "Restarting\n",
      "Game has started.\n",
      "ALSA lib confmisc.c:768:(parse_card) cannot find card '0'\n",
      "ALSA lib conf.c:4292:(_snd_config_evaluate) function snd_func_card_driver returned error: No such file or directory\n",
      "ALSA lib confmisc.c:392:(snd_func_concat) error evaluating strings\n",
      "ALSA lib conf.c:4292:(_snd_config_evaluate) function snd_func_concat returned error: No such file or directory\n",
      "ALSA lib confmisc.c:1251:(snd_func_refer) error evaluating name\n",
      "ALSA lib conf.c:4292:(_snd_config_evaluate) function snd_func_refer returned error: No such file or directory\n",
      "ALSA lib conf.c:4771:(snd_config_expand) Evaluate error: No such file or directory\n",
      "ALSA lib pcm.c:2266:(snd_pcm_open_noupdate) Unknown PCM default\n",
      "Wrote replay to: /headless/StarCraftII/Replays/local/DefeatRoaches_2018-03-23-04-49-27.SC2Replay\n",
      "Restarting\n",
      "Game has started.\n",
      "ALSA lib confmisc.c:768:(parse_card) cannot find card '0'\n",
      "ALSA lib conf.c:4292:(_snd_config_evaluate) function snd_func_card_driver returned error: No such file or directory\n",
      "ALSA lib confmisc.c:392:(snd_func_concat) error evaluating strings\n",
      "ALSA lib conf.c:4292:(_snd_config_evaluate) function snd_func_concat returned error: No such file or directory\n",
      "ALSA lib confmisc.c:1251:(snd_func_refer) error evaluating name\n",
      "ALSA lib conf.c:4292:(_snd_config_evaluate) function snd_func_refer returned error: No such file or directory\n",
      "ALSA lib conf.c:4771:(snd_config_expand) Evaluate error: No such file or directory\n",
      "ALSA lib pcm.c:2266:(snd_pcm_open_noupdate) Unknown PCM default\n",
      "Wrote replay to: /headless/StarCraftII/Replays/local/DefeatRoaches_2018-03-23-04-50-53.SC2Replay\n",
      "Restarting\n",
      "Game has started.\n",
      "ALSA lib confmisc.c:768:(parse_card) cannot find card '0'\n",
      "ALSA lib conf.c:4292:(_snd_config_evaluate) function snd_func_card_driver returned error: No such file or directory\n",
      "ALSA lib confmisc.c:392:(snd_func_concat) error evaluating strings\n",
      "ALSA lib conf.c:4292:(_snd_config_evaluate) function snd_func_concat returned error: No such file or directory\n",
      "ALSA lib confmisc.c:1251:(snd_func_refer) error evaluating name\n",
      "ALSA lib conf.c:4292:(_snd_config_evaluate) function snd_func_refer returned error: No such file or directory\n",
      "ALSA lib conf.c:4771:(snd_config_expand) Evaluate error: No such file or directory\n",
      "ALSA lib pcm.c:2266:(snd_pcm_open_noupdate) Unknown PCM default\n",
      "Wrote replay to: /headless/StarCraftII/Replays/local/DefeatRoaches_2018-03-23-04-52-19.SC2Replay\n",
      "Restarting\n",
      "Game has started.\n",
      "ALSA lib confmisc.c:768:(parse_card) cannot find card '0'\n",
      "ALSA lib conf.c:4292:(_snd_config_evaluate) function snd_func_card_driver returned error: No such file or directory\n",
      "ALSA lib confmisc.c:392:(snd_func_concat) error evaluating strings\n",
      "ALSA lib conf.c:4292:(_snd_config_evaluate) function snd_func_concat returned error: No such file or directory\n",
      "ALSA lib confmisc.c:1251:(snd_func_refer) error evaluating name\n",
      "ALSA lib conf.c:4292:(_snd_config_evaluate) function snd_func_refer returned error: No such file or directory\n",
      "ALSA lib conf.c:4771:(snd_config_expand) Evaluate error: No such file or directory\n",
      "ALSA lib pcm.c:2266:(snd_pcm_open_noupdate) Unknown PCM default\n",
      "Wrote replay to: /headless/StarCraftII/Replays/local/DefeatRoaches_2018-03-23-04-53-45.SC2Replay\n",
      "Restarting\n",
      "Game has started.\n",
      "ALSA lib confmisc.c:768:(parse_card) cannot find card '0'\n",
      "ALSA lib conf.c:4292:(_snd_config_evaluate) function snd_func_card_driver returned error: No such file or directory\n",
      "ALSA lib confmisc.c:392:(snd_func_concat) error evaluating strings\n",
      "ALSA lib conf.c:4292:(_snd_config_evaluate) function snd_func_concat returned error: No such file or directory\n",
      "ALSA lib confmisc.c:1251:(snd_func_refer) error evaluating name\n",
      "ALSA lib conf.c:4292:(_snd_config_evaluate) function snd_func_refer returned error: No such file or directory\n",
      "ALSA lib conf.c:4771:(snd_config_expand) Evaluate error: No such file or directory\n",
      "ALSA lib pcm.c:2266:(snd_pcm_open_noupdate) Unknown PCM default\n",
      "Wrote replay to: /headless/StarCraftII/Replays/local/DefeatRoaches_2018-03-23-04-55-11.SC2Replay\n",
      "Restarting\n",
      "Game has started.\n",
      "ALSA lib confmisc.c:768:(parse_card) cannot find card '0'\n",
      "ALSA lib conf.c:4292:(_snd_config_evaluate) function snd_func_card_driver returned error: No such file or directory\n",
      "ALSA lib confmisc.c:392:(snd_func_concat) error evaluating strings\n",
      "ALSA lib conf.c:4292:(_snd_config_evaluate) function snd_func_concat returned error: No such file or directory\n",
      "ALSA lib confmisc.c:1251:(snd_func_refer) error evaluating name\n",
      "ALSA lib conf.c:4292:(_snd_config_evaluate) function snd_func_refer returned error: No such file or directory\n",
      "ALSA lib conf.c:4771:(snd_config_expand) Evaluate error: No such file or directory\n",
      "ALSA lib pcm.c:2266:(snd_pcm_open_noupdate) Unknown PCM default\n",
      "Wrote replay to: /headless/StarCraftII/Replays/local/DefeatRoaches_2018-03-23-04-56-37.SC2Replay\n",
      "Restarting\n",
      "Game has started.\n",
      "ALSA lib confmisc.c:768:(parse_card) cannot find card '0'\n",
      "ALSA lib conf.c:4292:(_snd_config_evaluate) function snd_func_card_driver returned error: No such file or directory\n",
      "ALSA lib confmisc.c:392:(snd_func_concat) error evaluating strings\n",
      "ALSA lib conf.c:4292:(_snd_config_evaluate) function snd_func_concat returned error: No such file or directory\n",
      "ALSA lib confmisc.c:1251:(snd_func_refer) error evaluating name\n",
      "ALSA lib conf.c:4292:(_snd_config_evaluate) function snd_func_refer returned error: No such file or directory\n",
      "ALSA lib conf.c:4771:(snd_config_expand) Evaluate error: No such file or directory\n",
      "ALSA lib pcm.c:2266:(snd_pcm_open_noupdate) Unknown PCM default\n",
      "Wrote replay to: /headless/StarCraftII/Replays/local/DefeatRoaches_2018-03-23-04-58-03.SC2Replay\n",
      "Restarting\n",
      "Game has started.\n",
      "ALSA lib confmisc.c:768:(parse_card) cannot find card '0'\n",
      "ALSA lib conf.c:4292:(_snd_config_evaluate) function snd_func_card_driver returned error: No such file or directory\n",
      "ALSA lib confmisc.c:392:(snd_func_concat) error evaluating strings\n",
      "ALSA lib conf.c:4292:(_snd_config_evaluate) function snd_func_concat returned error: No such file or directory\n",
      "ALSA lib confmisc.c:1251:(snd_func_refer) error evaluating name\n",
      "ALSA lib conf.c:4292:(_snd_config_evaluate) function snd_func_refer returned error: No such file or directory\n",
      "ALSA lib conf.c:4771:(snd_config_expand) Evaluate error: No such file or directory\n",
      "ALSA lib pcm.c:2266:(snd_pcm_open_noupdate) Unknown PCM default\n",
      "^C\n",
      "took 1555.675 seconds for 34727 steps: 22.323 fps\n",
      "I0323 04:58:10.815592 140737354041088 sc_process.py:180] Shutdown gracefully.\n",
      "I0323 04:58:10.816382 140737354041088 sc_process.py:166] Shutdown with return code: -2\n"
     ]
    }
   ],
   "source": [
    "!python3 -m pysc2.bin.play --map DefeatRoaches"
   ]
  },
  {
   "cell_type": "markdown",
   "metadata": {},
   "source": [
    "Go to the noVNC Server to see the Pysc2 client. You can also see it from your VNC client if you have one at http://ec2-18-224-173-123.us-east-2.compute.amazonaws.com:5900/?password=vncpassword if you have one on your laptop.\n",
    "\n",
    "Depending on your browser, should should be able to click around and start to get a feel for the game.  If your browser does not work, then it should work in your VNC client if you have one.  If you're not able to play the minigame, don't worry!  You will still be able to watch agents play and you can always play the games later on your local SC2 client."
   ]
  },
  {
   "cell_type": "code",
   "execution_count": 7,
   "metadata": {
    "scrolled": true
   },
   "outputs": [
    {
     "name": "stdout",
     "output_type": "stream",
     "text": [
      "total 252\r\n",
      "-rw-rw-r-- 1 root root 31107 Aug  2  2017 BuildMarines.SC2Map\r\n",
      "-rw-rw-r-- 1 root root 31098 Aug  2  2017 CollectMineralShards.SC2Map\r\n",
      "-rw-rw-r-- 1 root root 30766 Aug  2  2017 CollectMineralsAndGas.SC2Map\r\n",
      "-rw-rw-r-- 1 root root 38711 Sep 20  2017 DefeatRoaches.SC2Map\r\n",
      "-rw-rw-r-- 1 root root 38292 Sep 20  2017 DefeatZerglingsAndBanelings.SC2Map\r\n",
      "-rw-rw-r-- 1 root root 46271 Sep 20  2017 FindAndDefeatZerglings.SC2Map\r\n",
      "-rw-rw-r-- 1 root root 25702 Aug  2  2017 MoveToBeacon.SC2Map\r\n"
     ]
    }
   ],
   "source": [
    "# if you would like to see other minigames you can choose from any of games in ~/StarCraftII/Maps/mini_games\n",
    "!ls -l ~/StarCraftII/Maps/mini_games"
   ]
  },
  {
   "cell_type": "markdown",
   "metadata": {},
   "source": [
    "# Programatic observations (1 env and then 2)"
   ]
  },
  {
   "cell_type": "markdown",
   "metadata": {},
   "source": [
    "# Programatic actions (1 env and then 2)"
   ]
  },
  {
   "cell_type": "markdown",
   "metadata": {},
   "source": [
    "# Reward Shaping"
   ]
  },
  {
   "cell_type": "markdown",
   "metadata": {},
   "source": [
    "Agents trained by DRL can learn behaviors depending on the enviornment (simulator) that they train in and also the rewards that the environment gives them.  We trained two agents in the same environment, a simple minimap with two roach packs split apart.  \n",
    "\n",
    "We encouraged one agent to be aggresive by penalizing the agent one point for every second."
   ]
  },
  {
   "cell_type": "code",
   "execution_count": 2,
   "metadata": {},
   "outputs": [
    {
     "data": {
      "text/html": [
       "<iframe width=\"560\" height=\"315\" src=\"https://www.youtube.com/embed/8eRFzXtBdwA?rel=0\" frameborder=\"0\" allow=\"autoplay; encrypted-media\" allowfullscreen></iframe>"
      ],
      "text/plain": [
       "<IPython.core.display.HTML object>"
      ]
     },
     "metadata": {},
     "output_type": "display_data"
    }
   ],
   "source": [
    "%%HTML\n",
    "<iframe width=\"560\" height=\"315\" src=\"https://www.youtube.com/embed/8eRFzXtBdwA?rel=0\" frameborder=\"0\" allow=\"autoplay; encrypted-media\" allowfullscreen></iframe>"
   ]
  },
  {
   "cell_type": "markdown",
   "metadata": {},
   "source": [
    "We then trained another agent that was penalized heavily for losing marines."
   ]
  },
  {
   "cell_type": "code",
   "execution_count": 9,
   "metadata": {},
   "outputs": [
    {
     "data": {
      "text/html": [
       "<iframe width=\"560\" height=\"315\" src=\"https://www.youtube.com/embed/9Opgktl6kLo?rel=0\" frameborder=\"0\" allow=\"autoplay; encrypted-media\" allowfullscreen></iframe>"
      ],
      "text/plain": [
       "<IPython.core.display.HTML object>"
      ]
     },
     "metadata": {},
     "output_type": "display_data"
    }
   ],
   "source": [
    "%%HTML\n",
    "<iframe width=\"560\" height=\"315\" src=\"https://www.youtube.com/embed/9Opgktl6kLo?rel=0\" frameborder=\"0\" allow=\"autoplay; encrypted-media\" allowfullscreen></iframe>"
   ]
  },
  {
   "cell_type": "markdown",
   "metadata": {},
   "source": [
    "You can see that the aggressive agent is always on the move looking for roaches to kill while the conservative agent is more than happy to hang out in the corner and not lose any marines."
   ]
  },
  {
   "cell_type": "markdown",
   "metadata": {},
   "source": [
    "# Learning process "
   ]
  },
  {
   "cell_type": "markdown",
   "metadata": {},
   "source": [
    "We can understand a lot about our agents by looking at the rewards that they are able to earn over time.  By plotting these curvers with respect to time training or number of frames seen, we get a reward curve.  We've plotted our curves using Tensorboard from Tensorflow.  You can inspect the curves for a number of different agents at this [link](/tensorboard)\n",
    "\n",
    "The agents were trained using this open source repo: https://github.com/simonmeister/pysc2-rl-agents.git We will learn to train a simpler version of agent later on in this lab. Here's an image of a reward curve for an agent training in the DefeatRoaches minigame.\n",
    "\n",
    "![DefeatRoaches Reward Curve](images/DefeatRoaches.PNG)\n",
    "\n",
    "As you can see from the learning curve, often times the agent has sacrifice its score a while in order to learn a new strategy that will ultimately lead to better play.  Here are two videos.  The first is the agent half-way through its training and the second is the agent when fully trained."
   ]
  },
  {
   "cell_type": "code",
   "execution_count": 7,
   "metadata": {},
   "outputs": [
    {
     "data": {
      "text/html": [
       "<iframe width=\"560\" height=\"315\" src=\"https://www.youtube.com/embed/tzPrtTXPTEA?rel=0\" frameborder=\"0\" allow=\"autoplay; encrypted-media\" allowfullscreen></iframe>"
      ],
      "text/plain": [
       "<IPython.core.display.HTML object>"
      ]
     },
     "metadata": {},
     "output_type": "display_data"
    }
   ],
   "source": [
    "%%HTML\n",
    "<iframe width=\"560\" height=\"315\" src=\"https://www.youtube.com/embed/tzPrtTXPTEA?rel=0\" frameborder=\"0\" allow=\"autoplay; encrypted-media\" allowfullscreen></iframe>"
   ]
  },
  {
   "cell_type": "code",
   "execution_count": 5,
   "metadata": {},
   "outputs": [
    {
     "data": {
      "text/html": [
       "<iframe width=\"560\" height=\"315\" src=\"https://www.youtube.com/embed/IBUgp6097Q0?rel=0\" frameborder=\"0\" allow=\"autoplay; encrypted-media\" allowfullscreen></iframe>"
      ],
      "text/plain": [
       "<IPython.core.display.HTML object>"
      ]
     },
     "metadata": {},
     "output_type": "display_data"
    }
   ],
   "source": [
    "%%HTML\n",
    "<iframe width=\"560\" height=\"315\" src=\"https://www.youtube.com/embed/IBUgp6097Q0?rel=0\" frameborder=\"0\" allow=\"autoplay; encrypted-media\" allowfullscreen></iframe>"
   ]
  },
  {
   "cell_type": "markdown",
   "metadata": {},
   "source": [
    "# Multiple Environments"
   ]
  },
  {
   "cell_type": "markdown",
   "metadata": {},
   "source": [
    "By having your agent play in multiple environments simultaneouly, the agent can learn much faster.  We trained one agent using 16 environments simultaneously and another agent using only one environment.\n",
    "\n",
    "![MoveToBeaconNenvs](images/MoveToBeaconNenvs.PNG)\n",
    "\n",
    "The agent with 16 environments was able to master the MoveToBeacon minimap in 20 minutes while the agent with 1 environment took 2 hours and 20 minutes.\n",
    "\n",
    "MoveToBeacon is a simple minigame and so an agent learning in only one environment can still master the game.  For more complex environments, agents often need to train in multiple environments in order to learn the advanced strategies required to master the game.\n",
    "\n",
    "Browse [TensorBoard](/tensorboard) in order to explore the reward curves more.  TensorBoard also has the reward curve for an agent that trained on 8 envs simultaneously."
   ]
  },
  {
   "cell_type": "markdown",
   "metadata": {},
   "source": [
    "# Random agent in multi process"
   ]
  },
  {
   "cell_type": "markdown",
   "metadata": {},
   "source": [
    "# Mix and Match Agents and Environments"
   ]
  },
  {
   "cell_type": "markdown",
   "metadata": {},
   "source": [
    "Pick your agent and pick your environment (mini map, make your own?)\n",
    "\n",
    "Watch play on vnc\n",
    "\n",
    "Save the replay locally and watch it at home"
   ]
  },
  {
   "cell_type": "markdown",
   "metadata": {},
   "source": [
    "# Train your own agent (single environment)"
   ]
  },
  {
   "cell_type": "markdown",
   "metadata": {},
   "source": [
    "# Train your own agent (multi-environment)"
   ]
  },
  {
   "cell_type": "markdown",
   "metadata": {},
   "source": [
    "Refer to Simonmeister code"
   ]
  }
 ],
 "metadata": {
  "kernelspec": {
   "display_name": "Python 3",
   "language": "python",
   "name": "python3"
  },
  "language_info": {
   "codemirror_mode": {
    "name": "ipython",
    "version": 3
   },
   "file_extension": ".py",
   "mimetype": "text/x-python",
   "name": "python",
   "nbconvert_exporter": "python",
   "pygments_lexer": "ipython3",
   "version": "3.5.2"
  }
 },
 "nbformat": 4,
 "nbformat_minor": 2
}
